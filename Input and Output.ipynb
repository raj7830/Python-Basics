{
 "cells": [
  {
   "cell_type": "markdown",
   "id": "6d5f5e48-0cb8-43d8-95f7-532f33bce412",
   "metadata": {},
   "source": [
    "# Input and Output"
   ]
  },
  {
   "cell_type": "markdown",
   "id": "38973577-348f-4466-a51e-c75b1dcfcede",
   "metadata": {
    "jp-MarkdownHeadingCollapsed": true
   },
   "source": [
    "## Output Statements\n",
    "\n",
    "To display the output or results python provides the print() function ."
   ]
  },
  {
   "cell_type": "markdown",
   "id": "b153a2bb-f91a-44e2-bfeb-bb8ded9695bb",
   "metadata": {},
   "source": [
    "### The print() statement"
   ]
  },
  {
   "cell_type": "markdown",
   "id": "7f3679da-b15b-41d1-b91b-a9f1cf71d005",
   "metadata": {},
   "source": [
    "#### The print(\"string\") statement"
   ]
  },
  {
   "cell_type": "code",
   "execution_count": 1,
   "id": "da03b9d2-b061-43d2-80b4-6ca97f06979b",
   "metadata": {},
   "outputs": [
    {
     "name": "stdout",
     "output_type": "stream",
     "text": [
      "Hello\n"
     ]
    }
   ],
   "source": [
    "print(\"Hello\")"
   ]
  },
  {
   "cell_type": "code",
   "execution_count": 2,
   "id": "1d78916e-0aaa-4a5c-9b7d-5d0e4109ab20",
   "metadata": {},
   "outputs": [
    {
     "name": "stdout",
     "output_type": "stream",
     "text": [
      "This is the \n",
      "first line\n"
     ]
    }
   ],
   "source": [
    "print(\"This is the \\nfirst line\")"
   ]
  },
  {
   "cell_type": "code",
   "execution_count": 3,
   "id": "4bb65de8-42d1-4f84-957e-25e90e0b06ca",
   "metadata": {},
   "outputs": [
    {
     "name": "stdout",
     "output_type": "stream",
     "text": [
      "This is the \tfirst line\n"
     ]
    }
   ],
   "source": [
    "print(\"This is the \\tfirst line\")"
   ]
  },
  {
   "cell_type": "code",
   "execution_count": 4,
   "id": "9521c77f-3abe-4b42-a590-0d864eed7fd4",
   "metadata": {},
   "outputs": [
    {
     "name": "stdout",
     "output_type": "stream",
     "text": [
      "This is the \\tfirst line\n"
     ]
    }
   ],
   "source": [
    "print(\"This is the \\\\tfirst line\")"
   ]
  },
  {
   "cell_type": "code",
   "execution_count": 8,
   "id": "33ec592a-8a64-46c0-ba57-3c8975fff767",
   "metadata": {},
   "outputs": [
    {
     "name": "stdout",
     "output_type": "stream",
     "text": [
      "SohailSohailSohail\n"
     ]
    }
   ],
   "source": [
    "print(3*'Sohail')"
   ]
  },
  {
   "cell_type": "code",
   "execution_count": 11,
   "id": "08c59134-24b0-44d0-9647-860fe04d3f7c",
   "metadata": {},
   "outputs": [
    {
     "name": "stdout",
     "output_type": "stream",
     "text": [
      "City name=Kolkata\n"
     ]
    }
   ],
   "source": [
    "print(\"City name=\"+\"Kolkata\")"
   ]
  },
  {
   "cell_type": "code",
   "execution_count": 12,
   "id": "6022eda5-daab-440a-9dbf-28a8db60deba",
   "metadata": {},
   "outputs": [
    {
     "name": "stdout",
     "output_type": "stream",
     "text": [
      "City name= Kolkata\n"
     ]
    }
   ],
   "source": [
    "print(\"City name=\",\"Kolkata\")"
   ]
  },
  {
   "cell_type": "markdown",
   "id": "f587d488-6cf2-464c-9caa-e9b244bd4ced",
   "metadata": {},
   "source": [
    "#### The print(variable list) Statement"
   ]
  },
  {
   "cell_type": "code",
   "execution_count": 16,
   "id": "7e39235f-e7e6-4439-be02-dd5ee94d87fb",
   "metadata": {},
   "outputs": [
    {
     "name": "stdout",
     "output_type": "stream",
     "text": [
      "2 4\n"
     ]
    }
   ],
   "source": [
    "a , b = 2 , 4\n",
    "print(a,b)"
   ]
  },
  {
   "cell_type": "code",
   "execution_count": 17,
   "id": "04061563-e32d-49f2-b009-69e16de950fc",
   "metadata": {},
   "outputs": [
    {
     "name": "stdout",
     "output_type": "stream",
     "text": [
      "2,4\n"
     ]
    }
   ],
   "source": [
    "print(a,b , sep=',')"
   ]
  },
  {
   "cell_type": "code",
   "execution_count": 18,
   "id": "e3f434d7-7301-4c75-b001-a1ee6e8430dd",
   "metadata": {},
   "outputs": [
    {
     "name": "stdout",
     "output_type": "stream",
     "text": [
      "2:4\n"
     ]
    }
   ],
   "source": [
    "print(a,b , sep=':')"
   ]
  },
  {
   "cell_type": "code",
   "execution_count": 21,
   "id": "cd24deae-c05f-4a59-af24-75a8876ac9be",
   "metadata": {},
   "outputs": [
    {
     "name": "stdout",
     "output_type": "stream",
     "text": [
      "2---4\n"
     ]
    }
   ],
   "source": [
    "print(a,b , sep='---')"
   ]
  },
  {
   "cell_type": "markdown",
   "id": "f2ca13ca-47d1-46a5-ac9f-7f5b4b03fa7a",
   "metadata": {},
   "source": [
    "#### The print(object)statement"
   ]
  },
  {
   "cell_type": "code",
   "execution_count": 22,
   "id": "a273d5be-796b-4227-ac20-7b3d5c52819c",
   "metadata": {},
   "outputs": [
    {
     "name": "stdout",
     "output_type": "stream",
     "text": [
      "[10, ' A', ' num']\n"
     ]
    }
   ],
   "source": [
    "list = [ 10 , ' A' , ' num']\n",
    "print(list)"
   ]
  },
  {
   "cell_type": "code",
   "execution_count": 23,
   "id": "124421ba-fdce-4689-9b26-626afbbbb1bb",
   "metadata": {},
   "outputs": [
    {
     "name": "stdout",
     "output_type": "stream",
     "text": [
      "{'idly': 30.0, 'Roti': 45.0, 'Chappati': 55.5}\n"
     ]
    }
   ],
   "source": [
    "d = {'idly':30.00 , 'Roti' : 45.00 , 'Chappati' : 55.50}\n",
    "print(d)"
   ]
  },
  {
   "cell_type": "markdown",
   "id": "3cb744fd-e234-404e-99a8-3966008de94d",
   "metadata": {},
   "source": [
    "#### The print (\"string\", variable list) statement"
   ]
  },
  {
   "cell_type": "code",
   "execution_count": 25,
   "id": "f0616c5a-39dd-4116-a38b-05077d944631",
   "metadata": {},
   "outputs": [
    {
     "name": "stdout",
     "output_type": "stream",
     "text": [
      "I typed 10 as input\n"
     ]
    }
   ],
   "source": [
    "a = 10\n",
    "print(\"I typed\" , a , \"as input\")"
   ]
  },
  {
   "cell_type": "markdown",
   "id": "1f941808-e1c2-4a8d-ac95-b2a03d63b7b8",
   "metadata": {},
   "source": [
    "#### The print(formatted string) statement"
   ]
  },
  {
   "cell_type": "code",
   "execution_count": 26,
   "id": "18d4a10a-e6dd-4a62-83f4-cd142b03f539",
   "metadata": {},
   "outputs": [
    {
     "name": "stdout",
     "output_type": "stream",
     "text": [
      "value = 10\n"
     ]
    }
   ],
   "source": [
    "x = 10\n",
    "print(\"value = %i\" % x)"
   ]
  },
  {
   "cell_type": "code",
   "execution_count": 27,
   "id": "6c15f548-3ca5-416c-969e-cc5c76e542c5",
   "metadata": {},
   "outputs": [
    {
     "name": "stdout",
     "output_type": "stream",
     "text": [
      "x = 10 y = 15 \n"
     ]
    }
   ],
   "source": [
    "x , y = 10, 15\n",
    "print('x = %i y = %d ' %(x,y))"
   ]
  },
  {
   "cell_type": "code",
   "execution_count": 29,
   "id": "f6b8a646-cb43-432e-bf27-84d0458da4ca",
   "metadata": {},
   "outputs": [
    {
     "name": "stdout",
     "output_type": "stream",
     "text": [
      "Sohail Ansari\n"
     ]
    }
   ],
   "source": [
    "name = 'Ansari'\n",
    "print('Sohail %s' % name)"
   ]
  },
  {
   "cell_type": "code",
   "execution_count": 30,
   "id": "2e35f0d7-2dea-4744-9c16-56c3a5ae435e",
   "metadata": {},
   "outputs": [
    {
     "name": "stdout",
     "output_type": "stream",
     "text": [
      "Sohail(              Ansari)\n"
     ]
    }
   ],
   "source": [
    "print('Sohail(%20s)' % name)"
   ]
  },
  {
   "cell_type": "code",
   "execution_count": 31,
   "id": "e2504d96-0d9d-4d5e-877e-2ef3115ec01a",
   "metadata": {},
   "outputs": [
    {
     "name": "stdout",
     "output_type": "stream",
     "text": [
      "Sohail(Ansari              )\n"
     ]
    }
   ],
   "source": [
    "print('Sohail(%-20s)' % name)"
   ]
  },
  {
   "cell_type": "code",
   "execution_count": 34,
   "id": "70f36fdc-b4ad-49f9-8429-cbf2870bf625",
   "metadata": {},
   "outputs": [
    {
     "name": "stdout",
     "output_type": "stream",
     "text": [
      "Ansari S, o ,h\n"
     ]
    }
   ],
   "source": [
    "name = 'Sohail'\n",
    "print('Ansari %c, %c ,%c' %(name[0],name[1],name[2]))"
   ]
  },
  {
   "cell_type": "code",
   "execution_count": 36,
   "id": "f32a1f25-5cd3-4836-bd1a-551033c3311d",
   "metadata": {},
   "outputs": [
    {
     "name": "stdout",
     "output_type": "stream",
     "text": [
      "Ansari Soh\n"
     ]
    }
   ],
   "source": [
    "print('Ansari %s' %(name[0:3]))"
   ]
  },
  {
   "cell_type": "code",
   "execution_count": 37,
   "id": "45a83f8c-c598-4cef-ac8b-04c11db09846",
   "metadata": {},
   "outputs": [
    {
     "name": "stdout",
     "output_type": "stream",
     "text": [
      "The value is : 123.456789\n"
     ]
    }
   ],
   "source": [
    "num = 123.456789\n",
    "print('The value is : %f'%num)"
   ]
  },
  {
   "cell_type": "code",
   "execution_count": 43,
   "id": "4cdca3c3-2ed3-403e-8445-66b54a25e4aa",
   "metadata": {},
   "outputs": [
    {
     "name": "stdout",
     "output_type": "stream",
     "text": [
      "The value is : 123.457\n"
     ]
    }
   ],
   "source": [
    "print('The value is : %2.3f'%num)"
   ]
  },
  {
   "cell_type": "code",
   "execution_count": 44,
   "id": "29438fa2-db30-4d91-ae57-3a7a4122b88d",
   "metadata": {},
   "outputs": [
    {
     "name": "stdout",
     "output_type": "stream",
     "text": [
      "number1=1\n"
     ]
    }
   ],
   "source": [
    "n1 , n2 , n3 = 1,2,3\n",
    "print('number1={0}'.format(n1))"
   ]
  },
  {
   "cell_type": "code",
   "execution_count": 48,
   "id": "04e39cb8-2914-46bb-95b2-d8e481c27d33",
   "metadata": {},
   "outputs": [
    {
     "name": "stdout",
     "output_type": "stream",
     "text": [
      "number1=1,number2=2,number3=3\n"
     ]
    }
   ],
   "source": [
    "n1 , n2 , n3 = 1,2,3\n",
    "print('number1={0},number2={1},number3={2}'.format(n1,n2,n3))"
   ]
  },
  {
   "cell_type": "code",
   "execution_count": 49,
   "id": "2859682b-ff99-47ab-ad13-d15b9a623c14",
   "metadata": {},
   "outputs": [
    {
     "name": "stdout",
     "output_type": "stream",
     "text": [
      "number1=2,number2=1,number3=3\n"
     ]
    }
   ],
   "source": [
    "n1 , n2 , n3 = 1,2,3\n",
    "print('number1={1},number2={0},number3={2}'.format(n1,n2,n3))"
   ]
  },
  {
   "cell_type": "code",
   "execution_count": 50,
   "id": "c494f44a-d352-4c47-b982-cfc2e861d459",
   "metadata": {},
   "outputs": [
    {
     "name": "stdout",
     "output_type": "stream",
     "text": [
      "Hello Sohail , your salary is  3000000.5\n"
     ]
    }
   ],
   "source": [
    "name , salary = 'Sohail',3000000.50\n",
    "print('Hello {0} , your salary is  {1}'.format(name,salary))"
   ]
  },
  {
   "cell_type": "code",
   "execution_count": 51,
   "id": "2c2036d4-9447-4656-b35a-bf49bb959043",
   "metadata": {},
   "outputs": [
    {
     "name": "stdout",
     "output_type": "stream",
     "text": [
      "Hello Sohail , your salary is  3000000.5\n"
     ]
    }
   ],
   "source": [
    "name , salary = 'Sohail',3000000.50\n",
    "print('Hello {n} , your salary is  {s}'.format(n = name, s = salary))"
   ]
  },
  {
   "cell_type": "code",
   "execution_count": 54,
   "id": "9d8929f1-4d51-4b9b-9cca-a9dc67dcc627",
   "metadata": {},
   "outputs": [
    {
     "name": "stdout",
     "output_type": "stream",
     "text": [
      "Hello Sohail , your salary is  3000000.50\n"
     ]
    }
   ],
   "source": [
    "name , salary = 'Sohail',3000000.50\n",
    "print('Hello {:s} , your salary is  {:.2f}'.format(name, salary))"
   ]
  },
  {
   "cell_type": "code",
   "execution_count": 57,
   "id": "e424e092-8073-4eb1-b82c-2851bcfc6717",
   "metadata": {},
   "outputs": [
    {
     "name": "stdout",
     "output_type": "stream",
     "text": [
      "Hello Sohail , your salary is  3000000.50\n"
     ]
    }
   ],
   "source": [
    "name , salary = 'Sohail',3000000.50\n",
    "print('Hello %s , your salary is  %.2f'%(name, salary))"
   ]
  },
  {
   "cell_type": "code",
   "execution_count": null,
   "id": "b743a593-4ed0-4f49-a42b-1d00e9e46482",
   "metadata": {},
   "outputs": [],
   "source": []
  },
  {
   "cell_type": "markdown",
   "id": "507dc6d0-0ceb-497c-8ef5-c5ee54438171",
   "metadata": {},
   "source": [
    "## Input Statements"
   ]
  },
  {
   "cell_type": "code",
   "execution_count": 58,
   "id": "304f4dbc-1363-436c-b647-128026002a20",
   "metadata": {},
   "outputs": [
    {
     "name": "stdin",
     "output_type": "stream",
     "text": [
      " sohail\n"
     ]
    }
   ],
   "source": [
    "str = input()"
   ]
  },
  {
   "cell_type": "code",
   "execution_count": 59,
   "id": "527bacf7-925d-4c00-8f7a-355ff6c37a88",
   "metadata": {},
   "outputs": [
    {
     "name": "stdout",
     "output_type": "stream",
     "text": [
      "sohail\n"
     ]
    }
   ],
   "source": [
    "print(str)"
   ]
  },
  {
   "cell_type": "code",
   "execution_count": 61,
   "id": "277f24a5-5a5e-4ac5-bf24-67345649384e",
   "metadata": {},
   "outputs": [
    {
     "name": "stdin",
     "output_type": "stream",
     "text": [
      "Enter your name :  sohail\n"
     ]
    }
   ],
   "source": [
    "str1 = input ('Enter your name : ')"
   ]
  },
  {
   "cell_type": "code",
   "execution_count": 62,
   "id": "ed5597ba-6f6c-4ad0-8751-3ea7e8809020",
   "metadata": {},
   "outputs": [
    {
     "name": "stdout",
     "output_type": "stream",
     "text": [
      "sohail\n"
     ]
    }
   ],
   "source": [
    "print(str1)"
   ]
  },
  {
   "cell_type": "code",
   "execution_count": 63,
   "id": "ed728e94-4e3e-4961-86b9-589b7f6b904a",
   "metadata": {},
   "outputs": [
    {
     "name": "stdin",
     "output_type": "stream",
     "text": [
      "Enter a number :  1234\n"
     ]
    }
   ],
   "source": [
    "str2 = input('Enter a number : ')"
   ]
  },
  {
   "cell_type": "code",
   "execution_count": 64,
   "id": "b14afb73-1fe8-430c-b0dd-078f4f67f4ba",
   "metadata": {},
   "outputs": [
    {
     "name": "stdout",
     "output_type": "stream",
     "text": [
      "1234\n"
     ]
    }
   ],
   "source": [
    "x = int(str2)\n",
    "print(x)"
   ]
  },
  {
   "cell_type": "code",
   "execution_count": 65,
   "id": "c72d960a-09c7-4446-8e88-d75feb37a403",
   "metadata": {},
   "outputs": [
    {
     "name": "stdin",
     "output_type": "stream",
     "text": [
      "Enter a number :  12345\n"
     ]
    },
    {
     "name": "stdout",
     "output_type": "stream",
     "text": [
      "12345\n"
     ]
    }
   ],
   "source": [
    "x = int(input('Enter a number : '))\n",
    "print(x)"
   ]
  },
  {
   "cell_type": "code",
   "execution_count": 66,
   "id": "6861e183-d535-463d-bd44-88d8b207c81b",
   "metadata": {},
   "outputs": [
    {
     "name": "stdin",
     "output_type": "stream",
     "text": [
      "Enter a number :  1234.5678\n"
     ]
    },
    {
     "name": "stdout",
     "output_type": "stream",
     "text": [
      "1234.5678\n"
     ]
    }
   ],
   "source": [
    "x = float(input('Enter a number : '))\n",
    "print(x)"
   ]
  },
  {
   "cell_type": "code",
   "execution_count": 68,
   "id": "5360fdc0-7877-4a0b-8656-5fbf0f70296f",
   "metadata": {},
   "outputs": [
    {
     "name": "stdin",
     "output_type": "stream",
     "text": [
      "Enter a string:  Sohail\n"
     ]
    },
    {
     "name": "stdout",
     "output_type": "stream",
     "text": [
      "You entered :  Sohail\n"
     ]
    }
   ],
   "source": [
    "# Python program to accept a string from keyboard and display it.\n",
    "\n",
    "str = input(\"Enter a string: \")\n",
    "print('You entered : ',str)"
   ]
  },
  {
   "cell_type": "code",
   "execution_count": 69,
   "id": "05309719-1c8a-4bd8-bbfb-6615f92c0b0f",
   "metadata": {},
   "outputs": [
    {
     "name": "stdin",
     "output_type": "stream",
     "text": [
      "Enter a char :  Sohail\n"
     ]
    },
    {
     "name": "stdout",
     "output_type": "stream",
     "text": [
      "You Entered : Sohail\n"
     ]
    }
   ],
   "source": [
    "# Python program to accept a character as a string\n",
    "ch = input(\"Enter a char : \")\n",
    "print(\"You Entered : \" +ch)"
   ]
  },
  {
   "cell_type": "code",
   "execution_count": 71,
   "id": "5db14f1c-0ea4-4816-9650-3975d58302a0",
   "metadata": {},
   "outputs": [
    {
     "name": "stdin",
     "output_type": "stream",
     "text": [
      "Enter a char :  Sohail\n"
     ]
    },
    {
     "name": "stdout",
     "output_type": "stream",
     "text": [
      "You Entered : So\n"
     ]
    }
   ],
   "source": [
    "# Python program to accept a single character from keyboard\n",
    "\n",
    "ch = input('Enter a char : ')\n",
    "print(\"You Entered : \" +ch[0:2])"
   ]
  },
  {
   "cell_type": "code",
   "execution_count": 74,
   "id": "0771f42b-1352-40a1-aa66-055d76ff9faa",
   "metadata": {},
   "outputs": [
    {
     "name": "stdin",
     "output_type": "stream",
     "text": [
      "Enter a number: 12345\n"
     ]
    },
    {
     "name": "stdout",
     "output_type": "stream",
     "text": [
      "You Enetered:  12345\n"
     ]
    }
   ],
   "source": [
    "# A python program to accept an integer number from keyword\n",
    "str = input('Enter a number:')\n",
    "x = int(str)\n",
    "print('You Enetered: ' , x)"
   ]
  },
  {
   "cell_type": "code",
   "execution_count": 77,
   "id": "b97b4893-bd6b-4c84-85b8-4a7311eaf520",
   "metadata": {},
   "outputs": [
    {
     "name": "stdin",
     "output_type": "stream",
     "text": [
      "Enter a number :  123456789\n"
     ]
    },
    {
     "name": "stdout",
     "output_type": "stream",
     "text": [
      "You Entered a number  123456789\n"
     ]
    }
   ],
   "source": [
    "# Python program to accept an integer number from keyword \n",
    "\n",
    "x = int(input(\"Enter a number : \" ))\n",
    "print(\"You Entered a number \", x)"
   ]
  },
  {
   "cell_type": "code",
   "execution_count": 78,
   "id": "a331f217-69c0-4084-bd42-07c4c4ef3fe5",
   "metadata": {},
   "outputs": [
    {
     "name": "stdin",
     "output_type": "stream",
     "text": [
      "Enter a number :  12345.678\n"
     ]
    },
    {
     "name": "stdout",
     "output_type": "stream",
     "text": [
      "You Entered a number  12345.678\n"
     ]
    }
   ],
   "source": [
    "# Python program to accept an float number from keyword \n",
    "\n",
    "x = float(input(\"Enter a number : \" ))\n",
    "print(\"You Entered a number \", x)"
   ]
  },
  {
   "cell_type": "code",
   "execution_count": 83,
   "id": "2409cc19-3738-4457-8876-f2cec5f13abc",
   "metadata": {},
   "outputs": [
    {
     "name": "stdin",
     "output_type": "stream",
     "text": [
      "Enter a number :  1234\n",
      "Enter a number :  5678\n"
     ]
    },
    {
     "name": "stdout",
     "output_type": "stream",
     "text": [
      "You Entered a number :  1234 5678\n"
     ]
    }
   ],
   "source": [
    "# Python program to accept two integer number from keyword \n",
    "\n",
    "x = int(input(\"Enter a number : \" ))\n",
    "y = int(input(\"Enter a number : \" ))\n",
    "\n",
    "print(\"You Entered a number : \", x , y)"
   ]
  },
  {
   "cell_type": "code",
   "execution_count": 88,
   "id": "dda46b3f-fb00-4c0e-b890-e718eabea035",
   "metadata": {},
   "outputs": [
    {
     "name": "stdin",
     "output_type": "stream",
     "text": [
      "Enter a number :  1234\n",
      "Enter a number :  5678\n"
     ]
    },
    {
     "name": "stdout",
     "output_type": "stream",
     "text": [
      "You Entered a number : ,1234,5678\n"
     ]
    }
   ],
   "source": [
    "x = int(input(\"Enter a number : \" ))\n",
    "y = int(input(\"Enter a number : \" ))\n",
    "\n",
    "print(\"You Entered a number : \", x , y , sep = ',')"
   ]
  },
  {
   "cell_type": "code",
   "execution_count": 86,
   "id": "f153defb-37d1-418b-a7a3-7cb31983a2fe",
   "metadata": {},
   "outputs": [
    {
     "name": "stdin",
     "output_type": "stream",
     "text": [
      "Enter a number :  1234\n",
      "Enter a number :  5678\n"
     ]
    },
    {
     "name": "stdout",
     "output_type": "stream",
     "text": [
      "You Entered a number :  1234 , 5678\n"
     ]
    }
   ],
   "source": [
    "x = int(input(\"Enter a number : \" ))\n",
    "y = int(input(\"Enter a number : \" ))\n",
    "\n",
    "print(\"You Entered a number :  %d , %d\" %(x,y))"
   ]
  },
  {
   "cell_type": "code",
   "execution_count": 92,
   "id": "ede86e76-51da-4345-8383-9253642065f4",
   "metadata": {},
   "outputs": [
    {
     "name": "stdin",
     "output_type": "stream",
     "text": [
      "input(Enter first number 10\n",
      "input(Enter second number 20\n"
     ]
    },
    {
     "name": "stdout",
     "output_type": "stream",
     "text": [
      "The sum of  10 and 20 is 30\n",
      "The sum of 10 and 20 is 30\n"
     ]
    }
   ],
   "source": [
    "# Python programme to accept two numbers and find their sum\n",
    "x  = int(input('input(Enter first number'))\n",
    "y  = int(input('input(Enter second number'))\n",
    "print('The sum of ' , x ,'and', y , 'is' , x+y)\n",
    "print('The sum of {} and {} is {}'.format(x,y,x+y))"
   ]
  },
  {
   "cell_type": "code",
   "execution_count": 93,
   "id": "12385cf8-8a2f-43ea-8ecb-8d4b99b8217c",
   "metadata": {},
   "outputs": [
    {
     "name": "stdin",
     "output_type": "stream",
     "text": [
      "input(Enter first number 10\n",
      "input(Enter second number 20\n"
     ]
    },
    {
     "name": "stdout",
     "output_type": "stream",
     "text": [
      "The sum of  10 and 20 is 30\n",
      "The sum of 10 and 20 is 200\n"
     ]
    }
   ],
   "source": [
    "# Python programme to accept two numbers and find their sum and product\n",
    "x  = int(input('input(Enter first number'))\n",
    "y  = int(input('input(Enter second number'))\n",
    "print('The sum of ' , x ,'and', y , 'is' , x+y)\n",
    "print('The sum of {} and {} is {}'.format(x,y,x*y))"
   ]
  },
  {
   "cell_type": "code",
   "execution_count": 95,
   "id": "b5c8c136-49b6-451e-ba39-4d599b01d1ff",
   "metadata": {},
   "outputs": [
    {
     "name": "stdin",
     "output_type": "stream",
     "text": [
      "Enter hexadecimal number :  12\n"
     ]
    },
    {
     "name": "stdout",
     "output_type": "stream",
     "text": [
      "Hexadecimal to decimal =  20\n"
     ]
    },
    {
     "name": "stdin",
     "output_type": "stream",
     "text": [
      "Enter octal number :  10\n"
     ]
    },
    {
     "name": "stdout",
     "output_type": "stream",
     "text": [
      "Octal to decimal =  8\n"
     ]
    },
    {
     "name": "stdin",
     "output_type": "stream",
     "text": [
      "Enter binary number :  1101\n"
     ]
    },
    {
     "name": "stdout",
     "output_type": "stream",
     "text": [
      "Binary to decimal =  13\n"
     ]
    }
   ],
   "source": [
    "# Python program to convert numbers form others systems into decimal number system\n",
    "\n",
    "s1 = input('Enter hexadecimal number : ')\n",
    "n1 = int(s1 , 16)\n",
    "print('Hexadecimal to decimal = ',n)\n",
    "\n",
    "s2 = input('Enter octal number : ')\n",
    "n2 = int(s2 , 8)\n",
    "print('Octal to decimal = ',n2)\n",
    "\n",
    "s3 = input('Enter binary number : ')\n",
    "n3 = int(s3,2)\n",
    "print('Binary to decimal = ' , n3)"
   ]
  },
  {
   "cell_type": "code",
   "execution_count": 99,
   "id": "1a93e5a3-0625-42f9-9a24-dda96f0617f6",
   "metadata": {},
   "outputs": [
    {
     "name": "stdin",
     "output_type": "stream",
     "text": [
      "Enter three numbers:  10 5 25\n"
     ]
    },
    {
     "name": "stdout",
     "output_type": "stream",
     "text": [
      "Sum =  40\n"
     ]
    }
   ],
   "source": [
    "# Python program to accept 3 integers in the same line and display thier sum\n",
    "\n",
    "var1 , var2 , var3 = [int(x) for x in input(\"Enter three numbers: \").split()]\n",
    "print('Sum = ',var1 + var2 + var3)"
   ]
  },
  {
   "cell_type": "code",
   "execution_count": 102,
   "id": "19f7ed4d-1b62-4b92-9fa4-d86871b702a5",
   "metadata": {},
   "outputs": [
    {
     "name": "stdin",
     "output_type": "stream",
     "text": [
      "Enter three numbers:  10 , 20 , 30\n"
     ]
    },
    {
     "name": "stdout",
     "output_type": "stream",
     "text": [
      "Sum =  60\n"
     ]
    }
   ],
   "source": [
    "var1 , var2 , var3 = [int(x) for x in input(\"Enter three numbers: \").split(',')]\n",
    "print('Sum = ',var1 + var2 + var3)"
   ]
  },
  {
   "cell_type": "code",
   "execution_count": 103,
   "id": "5209c9b6-301e-4139-be44-d48bf2ed9d6e",
   "metadata": {},
   "outputs": [
    {
     "name": "stdin",
     "output_type": "stream",
     "text": [
      "Enter strings :  sohail ,  Ansari , Md\n"
     ]
    },
    {
     "name": "stdout",
     "output_type": "stream",
     "text": [
      "I Entered :\n",
      " ['sohail ', '  Ansari ', ' Md']\n"
     ]
    }
   ],
   "source": [
    "# Python program to accept a group of strings separated by commas in the same line and display them.\n",
    "\n",
    "list = [ x for x in input('Enter strings : ').split(',')]\n",
    "print('I Entered :\\n',list)"
   ]
  },
  {
   "cell_type": "code",
   "execution_count": 105,
   "id": "559ea711-ccba-4140-899d-c3f8ce13048e",
   "metadata": {},
   "outputs": [
    {
     "name": "stdout",
     "output_type": "stream",
     "text": [
      "16\n"
     ]
    }
   ],
   "source": [
    "# eval() function\n",
    "\n",
    "a,b = 4 ,6\n",
    "result = eval(\"a+b+6\")\n",
    "print(result)"
   ]
  },
  {
   "cell_type": "code",
   "execution_count": 106,
   "id": "58addc0f-cd95-4755-affc-926f6f6e0050",
   "metadata": {},
   "outputs": [
    {
     "name": "stdin",
     "output_type": "stream",
     "text": [
      "Enter an expression :  10+4+6\n"
     ]
    },
    {
     "name": "stdout",
     "output_type": "stream",
     "text": [
      "Result = 20\n"
     ]
    }
   ],
   "source": [
    "x = eval(input(\"Enter an expression : \"))\n",
    "print(\"Result = %d\"%x)"
   ]
  },
  {
   "cell_type": "code",
   "execution_count": 110,
   "id": "08b9dd95-2abd-4cef-a05c-4cc0d3b58146",
   "metadata": {},
   "outputs": [
    {
     "name": "stdin",
     "output_type": "stream",
     "text": [
      "Enter a list:  \"Sohail\", \"Ansari\",\"Md\"\n"
     ]
    },
    {
     "name": "stdout",
     "output_type": "stream",
     "text": [
      "List =  ('Sohail', 'Ansari', 'Md')\n"
     ]
    }
   ],
   "source": [
    "list = eval(input(\"Enter a list: \"))\n",
    "print(\"List = \",list)"
   ]
  },
  {
   "cell_type": "code",
   "execution_count": 111,
   "id": "11cc22ec-87c5-4a8a-b83f-511f956a7808",
   "metadata": {},
   "outputs": [
    {
     "name": "stdin",
     "output_type": "stream",
     "text": [
      "Enter a tuple :  10 , 20 , 30 , 40\n"
     ]
    },
    {
     "name": "stdout",
     "output_type": "stream",
     "text": [
      "Tuple =  (10, 20, 30, 40)\n"
     ]
    }
   ],
   "source": [
    "# Python program to accept tuple\n",
    "tpl = eval(input(\"Enter a tuple : \"))\n",
    "print(\"Tuple = \",tpl)"
   ]
  },
  {
   "cell_type": "code",
   "execution_count": null,
   "id": "b8fa6b17-a92e-45ca-879a-0ff893e3b7fd",
   "metadata": {},
   "outputs": [],
   "source": []
  }
 ],
 "metadata": {
  "kernelspec": {
   "display_name": "Python 3 (ipykernel)",
   "language": "python",
   "name": "python3"
  },
  "language_info": {
   "codemirror_mode": {
    "name": "ipython",
    "version": 3
   },
   "file_extension": ".py",
   "mimetype": "text/x-python",
   "name": "python",
   "nbconvert_exporter": "python",
   "pygments_lexer": "ipython3",
   "version": "3.11.5"
  }
 },
 "nbformat": 4,
 "nbformat_minor": 5
}
