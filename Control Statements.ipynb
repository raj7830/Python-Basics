{
 "cells": [
  {
   "cell_type": "markdown",
   "id": "3777e6d9-6e45-4090-abf1-c17766bfead6",
   "metadata": {},
   "source": [
    "# Control Statements\n",
    "\n",
    "Control statements are statements which control or change the flow of execution."
   ]
  },
  {
   "cell_type": "markdown",
   "id": "c96d3ffb-9bde-4841-a16a-9a6d5298b693",
   "metadata": {},
   "source": [
    "## The if statement"
   ]
  },
  {
   "cell_type": "code",
   "execution_count": 2,
   "id": "ded373c7-fc8e-4a71-b548-6bdd25d46cb3",
   "metadata": {},
   "outputs": [
    {
     "name": "stdout",
     "output_type": "stream",
     "text": [
      "One\n"
     ]
    }
   ],
   "source": [
    "num = 1\n",
    "if num == 1:\n",
    "    print(\"One\")"
   ]
  },
  {
   "cell_type": "code",
   "execution_count": 3,
   "id": "628a3416-1feb-4b27-9e32-48bd0f4b01cc",
   "metadata": {},
   "outputs": [
    {
     "name": "stdout",
     "output_type": "stream",
     "text": [
      "Yes\n"
     ]
    }
   ],
   "source": [
    "str = 'yes'\n",
    "if str == 'yes':\n",
    "    print(\"Yes\")"
   ]
  },
  {
   "cell_type": "markdown",
   "id": "8182451a-65e0-4a5a-91b6-457eace6daa7",
   "metadata": {},
   "source": [
    "## The if...else Statements"
   ]
  },
  {
   "cell_type": "code",
   "execution_count": 4,
   "id": "a24dea46-87e5-4897-b899-200517d31e46",
   "metadata": {},
   "outputs": [
    {
     "name": "stdout",
     "output_type": "stream",
     "text": [
      "10  is even number\n"
     ]
    }
   ],
   "source": [
    "x = 10\n",
    "if x%2 == 0:\n",
    "    print(x,\" is even number\")\n",
    "\n",
    "else:\n",
    "    print(x, \" is Odd number\")"
   ]
  },
  {
   "cell_type": "code",
   "execution_count": 7,
   "id": "22b42ea5-3400-4b12-b5d2-4d124be59196",
   "metadata": {},
   "outputs": [
    {
     "name": "stdin",
     "output_type": "stream",
     "text": [
      "Enter the number 236785\n"
     ]
    },
    {
     "name": "stdout",
     "output_type": "stream",
     "text": [
      "236785  is Odd number\n"
     ]
    }
   ],
   "source": [
    "x = int(input(\"Enter the number\"))\n",
    "if x%2 == 0:\n",
    "    print(x,\" is even number\")\n",
    "\n",
    "else:\n",
    "    print(x, \" is Odd number\")"
   ]
  },
  {
   "cell_type": "code",
   "execution_count": 9,
   "id": "6acab4cc-39e2-452b-a811-fb1cbff4e956",
   "metadata": {},
   "outputs": [
    {
     "name": "stdin",
     "output_type": "stream",
     "text": [
      "Enter the number 6\n"
     ]
    },
    {
     "name": "stdout",
     "output_type": "stream",
     "text": [
      "You typed  6 Which is between 1 and 10\n"
     ]
    }
   ],
   "source": [
    "x = int(input(\"Enter the number\"))\n",
    "if x>=1 and x<=10:\n",
    "    print(\"You typed \" , x , \"Which is between 1 and 10\")\n",
    "\n",
    "else:\n",
    "    print(\"You typed \" , x , \"Which is between below 1 or above 10\")"
   ]
  },
  {
   "cell_type": "markdown",
   "id": "68d6bb75-8e1c-43e3-9ab4-5df84c3202b9",
   "metadata": {},
   "source": [
    "## The if ...elif ...else statement"
   ]
  },
  {
   "cell_type": "code",
   "execution_count": 19,
   "id": "a3bd2739-9d3f-4aab-80ad-338e5d905d7a",
   "metadata": {},
   "outputs": [
    {
     "name": "stdout",
     "output_type": "stream",
     "text": [
      "-10  is negative\n"
     ]
    }
   ],
   "source": [
    "num = -10\n",
    "if num == 0:\n",
    "    print(num , \"is zero\")\n",
    "elif num > 0:\n",
    "    print(num , \" is positive \")\n",
    "else:\n",
    "    print(num , \" is negative\")"
   ]
  },
  {
   "cell_type": "code",
   "execution_count": 21,
   "id": "d87ed2d9-9f8a-47de-a7b8-ebf900a2fd53",
   "metadata": {},
   "outputs": [
    {
     "name": "stdin",
     "output_type": "stream",
     "text": [
      "Enter a number :  -756\n"
     ]
    },
    {
     "name": "stdout",
     "output_type": "stream",
     "text": [
      "-756  is negative\n"
     ]
    }
   ],
   "source": [
    "num = int(input(\"Enter a number : \" ))\n",
    "if num == 0:\n",
    "    print(num , \"is zero\")\n",
    "elif num > 0:\n",
    "    print(num , \" is positive \")\n",
    "\n",
    "else :\n",
    "    print(num , \" is negative\")"
   ]
  },
  {
   "cell_type": "markdown",
   "id": "3768263b-af24-4896-8ad5-ac0592e9003c",
   "metadata": {},
   "source": [
    "## The while Loop"
   ]
  },
  {
   "cell_type": "code",
   "execution_count": 22,
   "id": "bb955743-cdc5-4588-b0f0-49b6c781b8ec",
   "metadata": {},
   "outputs": [
    {
     "name": "stdout",
     "output_type": "stream",
     "text": [
      "1\n",
      "2\n",
      "3\n",
      "4\n",
      "5\n",
      "6\n",
      "7\n",
      "8\n",
      "9\n",
      "10\n",
      "End\n"
     ]
    }
   ],
   "source": [
    "x = 1\n",
    "while x<=10:\n",
    "    print(x)\n",
    "    x += 1\n",
    "print(\"End\")"
   ]
  },
  {
   "cell_type": "code",
   "execution_count": 23,
   "id": "3b9103cd-2744-4509-a116-11e9d183c656",
   "metadata": {},
   "outputs": [
    {
     "name": "stdout",
     "output_type": "stream",
     "text": [
      "1\n",
      "End\n",
      "2\n",
      "End\n",
      "3\n",
      "End\n",
      "4\n",
      "End\n",
      "5\n",
      "End\n",
      "6\n",
      "End\n",
      "7\n",
      "End\n",
      "8\n",
      "End\n",
      "9\n",
      "End\n",
      "10\n",
      "End\n"
     ]
    }
   ],
   "source": [
    "x = 1\n",
    "while x<=10:\n",
    "    print(x)\n",
    "    x += 1\n",
    "    print(\"End\")"
   ]
  },
  {
   "cell_type": "code",
   "execution_count": 25,
   "id": "cafca444-c639-4da3-b871-80ce6825a474",
   "metadata": {},
   "outputs": [
    {
     "name": "stdout",
     "output_type": "stream",
     "text": [
      "100\n",
      "102\n",
      "104\n",
      "106\n",
      "108\n",
      "110\n",
      "112\n",
      "114\n",
      "116\n",
      "118\n",
      "120\n",
      "122\n",
      "124\n",
      "126\n",
      "128\n",
      "130\n",
      "132\n",
      "134\n",
      "136\n",
      "138\n",
      "140\n",
      "142\n",
      "144\n",
      "146\n",
      "148\n",
      "150\n",
      "152\n",
      "154\n",
      "156\n",
      "158\n",
      "160\n",
      "162\n",
      "164\n",
      "166\n",
      "168\n",
      "170\n",
      "172\n",
      "174\n",
      "176\n",
      "178\n",
      "180\n",
      "182\n",
      "184\n",
      "186\n",
      "188\n",
      "190\n",
      "192\n",
      "194\n",
      "196\n",
      "198\n",
      "200\n"
     ]
    }
   ],
   "source": [
    "x = 100\n",
    "while x>=100 and  x<=200:\n",
    "    print(x)\n",
    "    x += 2"
   ]
  },
  {
   "cell_type": "code",
   "execution_count": 29,
   "id": "f35eaf47-977b-44ba-8d8b-44eae939a3b3",
   "metadata": {},
   "outputs": [
    {
     "name": "stdin",
     "output_type": "stream",
     "text": [
      "Enter minimum and maximum range 11,20\n"
     ]
    },
    {
     "name": "stdout",
     "output_type": "stream",
     "text": [
      "12\n",
      "14\n",
      "16\n",
      "18\n",
      "20\n"
     ]
    }
   ],
   "source": [
    "m , n = [int(i) for i in input(\"Enter minimum and maximum range\").split(',')]\n",
    "x = m\n",
    "if x%2 !=0 :\n",
    "    x = x+1\n",
    "\n",
    "while x>=m and x<=n:\n",
    "    print(x)\n",
    "    x +=2"
   ]
  },
  {
   "cell_type": "markdown",
   "id": "0ab5ada6-b607-4303-9299-e8d21435865b",
   "metadata": {},
   "source": [
    "## The for Loop"
   ]
  },
  {
   "cell_type": "code",
   "execution_count": 30,
   "id": "86b92e78-d3c5-42f9-a41b-fd76261900e0",
   "metadata": {},
   "outputs": [
    {
     "name": "stdout",
     "output_type": "stream",
     "text": [
      " \n",
      "S\n",
      "o\n",
      "h\n",
      "a\n",
      "i\n",
      "l\n",
      " \n"
     ]
    }
   ],
   "source": [
    "str = \" Sohail \"\n",
    "for ch in str:\n",
    "    print(ch)"
   ]
  },
  {
   "cell_type": "code",
   "execution_count": 31,
   "id": "bbb79d29-df08-4ebc-b515-bfac2dc2a33d",
   "metadata": {},
   "outputs": [
    {
     "name": "stdout",
     "output_type": "stream",
     "text": [
      " \n",
      "s\n",
      "o\n",
      "h\n",
      "a\n",
      "i\n",
      "l\n",
      " \n"
     ]
    }
   ],
   "source": [
    "str = \" sohail \"\n",
    "n = len(str)\n",
    "for i in range(n):\n",
    "    print(str[i])"
   ]
  },
  {
   "cell_type": "code",
   "execution_count": 32,
   "id": "d514c93b-a978-4031-8a62-95f26a8efe11",
   "metadata": {},
   "outputs": [
    {
     "name": "stdout",
     "output_type": "stream",
     "text": [
      "1\n",
      "3\n",
      "5\n",
      "7\n",
      "9\n"
     ]
    }
   ],
   "source": [
    "for i in range(1 , 10 , 2):\n",
    "    print(i)"
   ]
  },
  {
   "cell_type": "code",
   "execution_count": 34,
   "id": "12c8d474-9bb4-4656-b568-587d762fc7a5",
   "metadata": {},
   "outputs": [
    {
     "name": "stdout",
     "output_type": "stream",
     "text": [
      "10\n",
      "9\n",
      "8\n",
      "7\n",
      "6\n",
      "5\n",
      "4\n",
      "3\n",
      "2\n",
      "1\n"
     ]
    }
   ],
   "source": [
    "for x in range(10 , 0 , -1):\n",
    "    print(x)"
   ]
  },
  {
   "cell_type": "code",
   "execution_count": 35,
   "id": "6842ecc4-4f68-4d1a-a163-d2d1ccd79ae7",
   "metadata": {},
   "outputs": [
    {
     "name": "stdout",
     "output_type": "stream",
     "text": [
      "10\n",
      "20\n",
      "Sohail\n",
      "ANSARI\n"
     ]
    }
   ],
   "source": [
    "list = [10 , 20 , 'Sohail' , 'ANSARI']\n",
    "for element in list:\n",
    "    print(element)"
   ]
  },
  {
   "cell_type": "code",
   "execution_count": 37,
   "id": "ce5bd91d-71f9-48cb-aae5-cea61c00c545",
   "metadata": {},
   "outputs": [
    {
     "name": "stdout",
     "output_type": "stream",
     "text": [
      "10\n",
      "20\n",
      "30\n",
      "40\n",
      "50\n",
      "Sum =  150\n"
     ]
    }
   ],
   "source": [
    "list = [ 10, 20, 30, 40 ,50]\n",
    "sum = 0\n",
    "for i in list:\n",
    "    print(i)\n",
    "    sum += i\n",
    "print('Sum = ' , sum)"
   ]
  },
  {
   "cell_type": "code",
   "execution_count": 38,
   "id": "b43972b4-7e86-4d1b-aa76-8b47d3e983a7",
   "metadata": {},
   "outputs": [
    {
     "name": "stdout",
     "output_type": "stream",
     "text": [
      "10\n",
      "20\n",
      "30\n",
      "40\n",
      "50\n",
      "Sum =  150\n"
     ]
    }
   ],
   "source": [
    "list = [ 10 , 20 , 30 , 40 , 50]\n",
    "sum = 0\n",
    "i = 0\n",
    "while i < len(list):\n",
    "    print(list[i])\n",
    "    sum += list[i]\n",
    "    i += 1\n",
    "print('Sum = ' , sum)"
   ]
  },
  {
   "cell_type": "markdown",
   "id": "64dc44b3-0079-49b4-9549-8b1eef383872",
   "metadata": {},
   "source": [
    "## Nested Loops"
   ]
  },
  {
   "cell_type": "code",
   "execution_count": 41,
   "id": "66b60f49-28e3-4246-a9ea-fd66a50503a2",
   "metadata": {},
   "outputs": [
    {
     "name": "stdout",
     "output_type": "stream",
     "text": [
      "i= 0 \t j= 0\n",
      "i= 0 \t j= 1\n",
      "i= 0 \t j= 2\n",
      "i= 0 \t j= 3\n",
      "i= 1 \t j= 0\n",
      "i= 1 \t j= 1\n",
      "i= 1 \t j= 2\n",
      "i= 1 \t j= 3\n",
      "i= 2 \t j= 0\n",
      "i= 2 \t j= 1\n",
      "i= 2 \t j= 2\n",
      "i= 2 \t j= 3\n"
     ]
    }
   ],
   "source": [
    "for i in range(3):\n",
    "    for j in range(4):\n",
    "        print('i=' , i , '\\t' , 'j=',j)"
   ]
  },
  {
   "cell_type": "code",
   "execution_count": 46,
   "id": "2c6a4b81-9987-4b7c-b4b9-7688414da086",
   "metadata": {
    "scrolled": true
   },
   "outputs": [
    {
     "name": "stdout",
     "output_type": "stream",
     "text": [
      "* \n",
      "* * \n",
      "* * * \n",
      "* * * * \n",
      "* * * * * \n",
      "* * * * * * \n",
      "* * * * * * * \n",
      "* * * * * * * * \n",
      "* * * * * * * * * \n",
      "* * * * * * * * * * \n"
     ]
    }
   ],
   "source": [
    "for i in range(1,11):\n",
    "    for j in range(1 , i+1):\n",
    "        print('* ' , end = '')\n",
    "    print()"
   ]
  },
  {
   "cell_type": "code",
   "execution_count": 48,
   "id": "0e77e2ed-7f93-4841-8d3b-c202979df3e4",
   "metadata": {
    "scrolled": true
   },
   "outputs": [
    {
     "name": "stdout",
     "output_type": "stream",
     "text": [
      "* \n",
      "* * \n",
      "* * * \n",
      "* * * * \n",
      "* * * * * \n",
      "* * * * * * \n",
      "* * * * * * * \n",
      "* * * * * * * * \n",
      "* * * * * * * * * \n",
      "* * * * * * * * * * \n"
     ]
    }
   ],
   "source": [
    "for i in range(1 ,11):\n",
    "    print('* ' *(i))\n",
    "    "
   ]
  },
  {
   "cell_type": "code",
   "execution_count": 49,
   "id": "c1e29f18-1ece-4ea1-8e84-de336043840c",
   "metadata": {},
   "outputs": [
    {
     "name": "stdout",
     "output_type": "stream",
     "text": [
      "12345678910\n",
      "2468101214161820\n",
      "36912151821242730\n",
      "481216202428323640\n",
      "5101520253035404550\n",
      "6121824303642485460\n",
      "7142128354249566370\n",
      "8162432404856647280\n",
      "9182736455463728190\n",
      "102030405060708090100\n"
     ]
    }
   ],
   "source": [
    "for x in range(1,11):\n",
    "    for y in range(1,11):\n",
    "        print(x*y , end = '')\n",
    "    print()"
   ]
  },
  {
   "cell_type": "code",
   "execution_count": 52,
   "id": "c942f682-ca0f-4904-af82-2d6725419271",
   "metadata": {
    "scrolled": true
   },
   "outputs": [
    {
     "name": "stdout",
     "output_type": "stream",
     "text": [
      "       1       2       3       4       5       6       7       8       9      10\n",
      "       2       4       6       8      10      12      14      16      18      20\n",
      "       3       6       9      12      15      18      21      24      27      30\n",
      "       4       8      12      16      20      24      28      32      36      40\n",
      "       5      10      15      20      25      30      35      40      45      50\n",
      "       6      12      18      24      30      36      42      48      54      60\n",
      "       7      14      21      28      35      42      49      56      63      70\n",
      "       8      16      24      32      40      48      56      64      72      80\n",
      "       9      18      27      36      45      54      63      72      81      90\n",
      "      10      20      30      40      50      60      70      80      90     100\n"
     ]
    }
   ],
   "source": [
    "for x in range(1,11):\n",
    "    for y in range(1,11):\n",
    "        print('{:8}'.format(x*y),end='') \n",
    "    print()"
   ]
  },
  {
   "cell_type": "markdown",
   "id": "ebeef5d6-4a7d-4a78-bbca-1a6ccdf3b952",
   "metadata": {},
   "source": [
    "## The Else Suite"
   ]
  },
  {
   "cell_type": "code",
   "execution_count": 53,
   "id": "5f81318e-31d9-4d4d-9a57-8869760282cc",
   "metadata": {},
   "outputs": [
    {
     "name": "stdout",
     "output_type": "stream",
     "text": [
      "Yes\n",
      "Yes\n",
      "Yes\n",
      "Yes\n",
      "Yes\n",
      "No\n"
     ]
    }
   ],
   "source": [
    "for i in range(5):\n",
    "    print('Yes')\n",
    "else:\n",
    "    print('No')"
   ]
  },
  {
   "cell_type": "code",
   "execution_count": 57,
   "id": "1aeab2d3-5263-430a-8882-90ca60a23306",
   "metadata": {},
   "outputs": [
    {
     "name": "stdin",
     "output_type": "stream",
     "text": [
      "Enter element to search :  6\n"
     ]
    },
    {
     "name": "stdout",
     "output_type": "stream",
     "text": [
      "Element not found in group1\n"
     ]
    }
   ],
   "source": [
    "group1 = [1 , 2 , 3 , 4 , 5]\n",
    "search = int(input(\"Enter element to search : \"))\n",
    "for element in group1:\n",
    "    if element == search:\n",
    "        print(\"Element found in group1\")\n",
    "        break\n",
    "else:\n",
    "    print(\"Element not found in group1\")"
   ]
  },
  {
   "cell_type": "markdown",
   "id": "c6c5e829-9125-440d-a3be-adf10f79747b",
   "metadata": {},
   "source": [
    "## The break Statement"
   ]
  },
  {
   "cell_type": "code",
   "execution_count": 58,
   "id": "9328ba15-7c0d-48e8-9f43-24f783ac33ef",
   "metadata": {},
   "outputs": [
    {
     "name": "stdout",
     "output_type": "stream",
     "text": [
      "x =  10\n",
      "x =  9\n",
      "x =  8\n",
      "x =  7\n",
      "x =  6\n",
      "Out os Loop\n"
     ]
    }
   ],
   "source": [
    "x = 10\n",
    "while x>=1:\n",
    "    print('x = ' , x)\n",
    "    x-=1\n",
    "    if x==5:\n",
    "        break\n",
    "print(\"Out os Loop\")"
   ]
  },
  {
   "cell_type": "markdown",
   "id": "93fc5d79-4d8d-4d5f-bc5d-d3ea7f1d9062",
   "metadata": {},
   "source": [
    "##  The continue Statement"
   ]
  },
  {
   "cell_type": "code",
   "execution_count": 64,
   "id": "eb2f975a-2fc0-4382-9b1d-88070b131580",
   "metadata": {},
   "outputs": [
    {
     "name": "stdout",
     "output_type": "stream",
     "text": [
      "x=  1\n",
      "x=  2\n",
      "x=  3\n",
      "x=  4\n",
      "x=  5\n",
      "Out of Loop\n"
     ]
    }
   ],
   "source": [
    "x = 0\n",
    "while x<10:\n",
    "    x+=1\n",
    "    if x>5:\n",
    "        continue\n",
    "    print('x= ' , x)\n",
    "print(\"Out of Loop\")"
   ]
  },
  {
   "cell_type": "markdown",
   "id": "10aec456-e5bf-4742-b1b7-dc5097abe32b",
   "metadata": {},
   "source": [
    "## The Pass Statement"
   ]
  },
  {
   "cell_type": "code",
   "execution_count": 65,
   "id": "4ff4d730-ba49-4f52-87b8-eca2f9dc4594",
   "metadata": {},
   "outputs": [
    {
     "name": "stdout",
     "output_type": "stream",
     "text": [
      "x=  1\n",
      "x=  2\n",
      "x=  3\n",
      "x=  4\n",
      "x=  5\n",
      "x=  6\n",
      "x=  7\n",
      "x=  8\n",
      "x=  9\n",
      "x=  10\n",
      "Out of Loop\n"
     ]
    }
   ],
   "source": [
    "x = 0\n",
    "while x<10:\n",
    "    x+=1\n",
    "    if x>5:\n",
    "        pass\n",
    "    print('x= ' , x)\n",
    "print(\"Out of Loop\")"
   ]
  },
  {
   "cell_type": "code",
   "execution_count": 66,
   "id": "d31ff83a-053c-4b5d-a45e-e66049f149b1",
   "metadata": {},
   "outputs": [
    {
     "name": "stdout",
     "output_type": "stream",
     "text": [
      "-4\n",
      "-5\n",
      "-6\n",
      "-7\n"
     ]
    }
   ],
   "source": [
    "num = [ 1 , 2 , 3 , -4 , -5 , -6 , -7 , 8 , 9 ]\n",
    "for i in num:\n",
    "    if (i>0):\n",
    "        pass\n",
    "    else:\n",
    "        print(i)"
   ]
  },
  {
   "cell_type": "markdown",
   "id": "b8d92707-b3cb-4619-8a95-5ddd0792d681",
   "metadata": {},
   "source": [
    "## The assert Statement\n",
    "The assert statement is used to check if a particular condition is fulfilled or not."
   ]
  },
  {
   "cell_type": "code",
   "execution_count": 70,
   "id": "39660700-0e3c-4c5b-a139-8c29a65b6646",
   "metadata": {},
   "outputs": [
    {
     "name": "stdin",
     "output_type": "stream",
     "text": [
      "Enter a number greater than 0 :  8\n"
     ]
    },
    {
     "name": "stdout",
     "output_type": "stream",
     "text": [
      "You Entered :  8\n"
     ]
    }
   ],
   "source": [
    "x = int(input('Enter a number greater than 0 : '))\n",
    "assert x>0\n",
    "print(\"You Entered : \",x)"
   ]
  },
  {
   "cell_type": "code",
   "execution_count": 71,
   "id": "319cd4dd-a8ab-4a6d-a800-5ee6bfae8e8a",
   "metadata": {},
   "outputs": [
    {
     "name": "stdin",
     "output_type": "stream",
     "text": [
      "Enter a number greater than 0 :  -90\n"
     ]
    },
    {
     "name": "stdout",
     "output_type": "stream",
     "text": [
      "Wrong input Entered\n"
     ]
    }
   ],
   "source": [
    "# Python program to handle AssertionError\n",
    "\n",
    "x = int(input('Enter a number greater than 0 : '))\n",
    "try:\n",
    "   assert x>0\n",
    "   print(\"You Entered : \",x)\n",
    "except AssertionError:\n",
    "    print(\"Wrong input Entered\")"
   ]
  },
  {
   "cell_type": "markdown",
   "id": "6224f715-a392-415a-8b6f-c6d2451cdea3",
   "metadata": {},
   "source": [
    "## The return Statement"
   ]
  },
  {
   "cell_type": "code",
   "execution_count": 74,
   "id": "a62d21a6-f8fb-407e-bc26-6cd61c83e562",
   "metadata": {},
   "outputs": [
    {
     "name": "stdout",
     "output_type": "stream",
     "text": [
      "The result is  15\n"
     ]
    }
   ],
   "source": [
    "def sum(a,b):\n",
    "    return a+b\n",
    "\n",
    "res = sum(5,10)\n",
    "print('The result is ', res)"
   ]
  },
  {
   "cell_type": "code",
   "execution_count": 79,
   "id": "5c81bcfc-cdaf-4df8-ad4b-2b2dbb230943",
   "metadata": {},
   "outputs": [
    {
     "name": "stdin",
     "output_type": "stream",
     "text": [
      "Upto what number ?  30\n"
     ]
    },
    {
     "name": "stdout",
     "output_type": "stream",
     "text": [
      "2\n",
      "3\n",
      "5\n",
      "7\n",
      "11\n",
      "13\n",
      "17\n",
      "19\n",
      "23\n",
      "29\n"
     ]
    }
   ],
   "source": [
    "#Write a program to print prime numbers upto a given number\n",
    "\n",
    "max = int(input(\"Upto what number ? \"))\n",
    "for num in range(2, max+1):\n",
    "    for i in range(2,num):\n",
    "        if (num % i) == 0:\n",
    "            break\n",
    "\n",
    "    else:\n",
    "        print(num)"
   ]
  },
  {
   "cell_type": "code",
   "execution_count": 83,
   "id": "c7106d5e-53a0-4744-a407-3e487e3fdd3b",
   "metadata": {},
   "outputs": [
    {
     "name": "stdin",
     "output_type": "stream",
     "text": [
      "How many Fibonaccis ?  10\n"
     ]
    },
    {
     "name": "stdout",
     "output_type": "stream",
     "text": [
      "0\n",
      "1\n",
      "1\n",
      "2\n",
      "3\n",
      "5\n",
      "8\n",
      "13\n",
      "21\n",
      "34\n"
     ]
    }
   ],
   "source": [
    "# Program to display Fibonacci series\n",
    "\n",
    "n = int(input('How many Fibonaccis ? '))\n",
    "f1 = 0\n",
    "f2 = 1\n",
    "c = 2\n",
    "if n == 1:\n",
    "    print(f1)\n",
    "elif n == 2:\n",
    "    print( f1 , '\\n' , f2 , sep='')\n",
    "else:\n",
    "    print( f1 , '\\n' , f2 , sep='')\n",
    "    while c<n:\n",
    "        f = f1 + f2\n",
    "        print(f)\n",
    "        f1 , f2 = f2 , f\n",
    "        c+=1"
   ]
  },
  {
   "cell_type": "code",
   "execution_count": null,
   "id": "3b34fe66-a9e2-4e71-bdf6-28f6cf244416",
   "metadata": {},
   "outputs": [],
   "source": []
  }
 ],
 "metadata": {
  "kernelspec": {
   "display_name": "Python 3 (ipykernel)",
   "language": "python",
   "name": "python3"
  },
  "language_info": {
   "codemirror_mode": {
    "name": "ipython",
    "version": 3
   },
   "file_extension": ".py",
   "mimetype": "text/x-python",
   "name": "python",
   "nbconvert_exporter": "python",
   "pygments_lexer": "ipython3",
   "version": "3.11.5"
  }
 },
 "nbformat": 4,
 "nbformat_minor": 5
}
